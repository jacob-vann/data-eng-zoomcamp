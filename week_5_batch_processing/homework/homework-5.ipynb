{
 "cells": [
  {
   "cell_type": "code",
   "execution_count": 1,
   "id": "a4b8ae74",
   "metadata": {},
   "outputs": [],
   "source": [
    "import pandas as pd\n",
    "import pyspark\n",
    "import pyspark.sql.functions as F\n",
    "from pyspark.sql import SparkSession\n",
    "from pyspark.sql import types"
   ]
  },
  {
   "cell_type": "code",
   "execution_count": 2,
   "id": "1a8ef279",
   "metadata": {},
   "outputs": [
    {
     "name": "stderr",
     "output_type": "stream",
     "text": [
      "WARNING: An illegal reflective access operation has occurred\n",
      "WARNING: Illegal reflective access by org.apache.spark.unsafe.Platform (file:/home/jacob/bin/spark-3.0.3-bin-hadoop3.2/jars/spark-unsafe_2.12-3.0.3.jar) to constructor java.nio.DirectByteBuffer(long,int)\n",
      "WARNING: Please consider reporting this to the maintainers of org.apache.spark.unsafe.Platform\n",
      "WARNING: Use --illegal-access=warn to enable warnings of further illegal reflective access operations\n",
      "WARNING: All illegal access operations will be denied in a future release\n",
      "22/02/28 11:46:25 WARN NativeCodeLoader: Unable to load native-hadoop library for your platform... using builtin-java classes where applicable\n",
      "Using Spark's default log4j profile: org/apache/spark/log4j-defaults.properties\n",
      "Setting default log level to \"WARN\".\n",
      "To adjust logging level use sc.setLogLevel(newLevel). For SparkR, use setLogLevel(newLevel).\n",
      "22/02/28 11:46:28 WARN Utils: Service 'SparkUI' could not bind on port 4040. Attempting port 4041.\n"
     ]
    }
   ],
   "source": [
    "spark = SparkSession.builder \\\n",
    "    .master(\"local[*]\") \\\n",
    "    .appName(\"test\") \\\n",
    "    .getOrCreate()"
   ]
  },
  {
   "cell_type": "markdown",
   "id": "3e89fc2d",
   "metadata": {},
   "source": [
    "### Question 1: Version of PySpark "
   ]
  },
  {
   "cell_type": "code",
   "execution_count": 7,
   "id": "2e296759",
   "metadata": {},
   "outputs": [
    {
     "data": {
      "text/plain": [
       "'3.0.3'"
      ]
     },
     "execution_count": 7,
     "metadata": {},
     "output_type": "execute_result"
    }
   ],
   "source": [
    "pyspark.__version__"
   ]
  },
  {
   "cell_type": "markdown",
   "id": "c303339f",
   "metadata": {},
   "source": [
    "### Question 2: Size of HVFHW February 2021 "
   ]
  },
  {
   "cell_type": "code",
   "execution_count": 16,
   "id": "9d142f49",
   "metadata": {},
   "outputs": [
    {
     "name": "stdout",
     "output_type": "stream",
     "text": [
      "--2022-02-28 11:37:02--  https://nyc-tlc.s3.amazonaws.com/trip+data/fhvhv_tripdata_2021-02.csv\n",
      "Resolving nyc-tlc.s3.amazonaws.com (nyc-tlc.s3.amazonaws.com)... 52.216.232.75\n",
      "Connecting to nyc-tlc.s3.amazonaws.com (nyc-tlc.s3.amazonaws.com)|52.216.232.75|:443... connected.\n",
      "HTTP request sent, awaiting response... 200 OK\n",
      "Length: 733822658 (700M) [text/csv]\n",
      "Saving to: ‘fhvhv_tripdata_2021-02.csv.3’\n",
      "\n",
      "fhvhv_tripdata_2021 100%[===================>] 699.83M  35.1MB/s    in 21s     \n",
      "\n",
      "2022-02-28 11:37:24 (32.6 MB/s) - ‘fhvhv_tripdata_2021-02.csv.3’ saved [733822658/733822658]\n",
      "\n"
     ]
    }
   ],
   "source": [
    "!wget https://nyc-tlc.s3.amazonaws.com/trip+data/fhvhv_tripdata_2021-02.csv"
   ]
  },
  {
   "cell_type": "code",
   "execution_count": 3,
   "id": "d19a6e93",
   "metadata": {},
   "outputs": [],
   "source": [
    "fhvhv_schema = types.StructType([\n",
    "    types.StructField(\"hvfhs_license_num\", types.StringType(), True),\n",
    "    types.StructField(\"dispatching_base_num\", types.StringType(), True),\n",
    "    types.StructField(\"pickup_datetime\", types.TimestampType(), True),\n",
    "    types.StructField(\"dropoff_datetime\", types.TimestampType(), True),\n",
    "    types.StructField(\"PULocationID\", types.IntegerType(), True),\n",
    "    types.StructField(\"DOLocationID\", types.IntegerType(), True),\n",
    "    types.StructField(\"SR_Flag\",types.StringType(), True)\n",
    "])"
   ]
  },
  {
   "cell_type": "code",
   "execution_count": 4,
   "id": "9c13482f",
   "metadata": {},
   "outputs": [
    {
     "name": "stderr",
     "output_type": "stream",
     "text": [
      "                                                                                \r"
     ]
    }
   ],
   "source": [
    "df_fhvhv = spark.read \\\n",
    "        .option(\"header\", \"true\") \\\n",
    "        .schema(fhvhv_schema) \\\n",
    "        .csv(\"fhvhv_tripdata_2021-02.csv\")\n",
    "\n",
    "df_fhvhv \\\n",
    "        .repartition(24) \\\n",
    "        .write.parquet(\"fhvhv_tripdata_2021-02.parquet\", mode=\"overwrite\")"
   ]
  },
  {
   "cell_type": "code",
   "execution_count": 5,
   "id": "68042896",
   "metadata": {},
   "outputs": [
    {
     "name": "stdout",
     "output_type": "stream",
     "text": [
      "210M\tfhvhv_tripdata_2021-02.parquet\r\n"
     ]
    }
   ],
   "source": [
    "!du -h fhvhv_tripdata_2021-02.parquet"
   ]
  },
  {
   "cell_type": "markdown",
   "id": "f250b584",
   "metadata": {},
   "source": [
    "### Question 3: Records on Feb 2021"
   ]
  },
  {
   "cell_type": "code",
   "execution_count": 12,
   "id": "023072e0",
   "metadata": {},
   "outputs": [],
   "source": [
    "df_fhvhv.registerTempTable('fhvhv_tripdata')"
   ]
  },
  {
   "cell_type": "code",
   "execution_count": 13,
   "id": "8798f449",
   "metadata": {},
   "outputs": [
    {
     "name": "stderr",
     "output_type": "stream",
     "text": [
      "[Stage 2:=================================================>         (5 + 1) / 6]\r"
     ]
    },
    {
     "name": "stdout",
     "output_type": "stream",
     "text": [
      "+--------+\n",
      "|count(1)|\n",
      "+--------+\n",
      "|  367170|\n",
      "+--------+\n",
      "\n"
     ]
    },
    {
     "name": "stderr",
     "output_type": "stream",
     "text": [
      "\r",
      "                                                                                \r"
     ]
    }
   ],
   "source": [
    "df_result = spark.sql(\"\"\"\n",
    "SELECT \n",
    "    COUNT(*) \n",
    "FROM \n",
    "    fhvhv_tripdata\n",
    "WHERE\n",
    "    DATE(pickup_datetime) = '2021-02-15'\n",
    "\"\"\").show()"
   ]
  },
  {
   "cell_type": "markdown",
   "id": "bd373535",
   "metadata": {},
   "source": [
    "### Question 4: Day with the longest trip"
   ]
  },
  {
   "cell_type": "code",
   "execution_count": 9,
   "id": "1a055661",
   "metadata": {},
   "outputs": [],
   "source": [
    "df_fhvhv = df_fhvhv \\\n",
    "    .withColumn(\"trip_length\", F.col(\"dropoff_datetime\").cast(\"long\") - F.col(\"pickup_datetime\").cast(\"long\")) \\\n",
    "    .withColumn(\"day\", F.to_date(\"pickup_datetime\"))"
   ]
  },
  {
   "cell_type": "code",
   "execution_count": 10,
   "id": "8cc33ba6",
   "metadata": {},
   "outputs": [],
   "source": [
    "df=df_fhvhv \\\n",
    "    .groupBy(\"day\") \\\n",
    "    .max(\"trip_length\")"
   ]
  },
  {
   "cell_type": "code",
   "execution_count": 11,
   "id": "e5111b7f",
   "metadata": {},
   "outputs": [
    {
     "name": "stderr",
     "output_type": "stream",
     "text": [
      "[Stage 5:===============================================>       (173 + 4) / 200]\r"
     ]
    },
    {
     "name": "stdout",
     "output_type": "stream",
     "text": [
      "+----------+----------------+\n",
      "|       day|max(trip_length)|\n",
      "+----------+----------------+\n",
      "|2021-02-11|           75540|\n",
      "|2021-02-17|           57221|\n",
      "|2021-02-20|           44039|\n",
      "|2021-02-03|           40653|\n",
      "|2021-02-19|           37577|\n",
      "|2021-02-25|           35010|\n",
      "|2021-02-18|           34612|\n",
      "|2021-02-10|           34169|\n",
      "|2021-02-21|           32223|\n",
      "|2021-02-09|           32087|\n",
      "|2021-02-06|           31447|\n",
      "|2021-02-02|           30913|\n",
      "|2021-02-05|           30511|\n",
      "|2021-02-12|           30148|\n",
      "|2021-02-08|           30106|\n",
      "|2021-02-14|           29777|\n",
      "|2021-02-22|           28278|\n",
      "|2021-02-27|           27170|\n",
      "|2021-02-15|           25874|\n",
      "|2021-02-04|           25592|\n",
      "+----------+----------------+\n",
      "only showing top 20 rows\n",
      "\n"
     ]
    },
    {
     "name": "stderr",
     "output_type": "stream",
     "text": [
      "\r",
      "                                                                                \r"
     ]
    }
   ],
   "source": [
    "df.sort(F.col(\"max(trip_length)\").desc()).show()"
   ]
  },
  {
   "cell_type": "markdown",
   "id": "fb43116e",
   "metadata": {},
   "source": [
    "### Question 5: Stages for most frequent dispatching_base_num"
   ]
  },
  {
   "cell_type": "code",
   "execution_count": 16,
   "id": "036d48a8",
   "metadata": {},
   "outputs": [],
   "source": [
    "df=df_fhvhv.groupBy(\"dispatching_base_num\").count()"
   ]
  },
  {
   "cell_type": "code",
   "execution_count": 17,
   "id": "915e7e1a",
   "metadata": {},
   "outputs": [
    {
     "name": "stderr",
     "output_type": "stream",
     "text": [
      "[Stage 10:================================================>         (5 + 1) / 6]\r"
     ]
    },
    {
     "name": "stdout",
     "output_type": "stream",
     "text": [
      "+--------------------+-------+\n",
      "|dispatching_base_num|  count|\n",
      "+--------------------+-------+\n",
      "|              B02510|3233664|\n",
      "|              B02764| 965568|\n",
      "|              B02872| 882689|\n",
      "|              B02875| 685390|\n",
      "|              B02765| 559768|\n",
      "|              B02869| 429720|\n",
      "|              B02887| 322331|\n",
      "|              B02871| 312364|\n",
      "|              B02864| 311603|\n",
      "|              B02866| 311089|\n",
      "|              B02878| 305185|\n",
      "|              B02682| 303255|\n",
      "|              B02617| 274510|\n",
      "|              B02883| 251617|\n",
      "|              B02884| 244963|\n",
      "|              B02882| 232173|\n",
      "|              B02876| 215693|\n",
      "|              B02879| 210137|\n",
      "|              B02867| 200530|\n",
      "|              B02877| 198938|\n",
      "+--------------------+-------+\n",
      "only showing top 20 rows\n",
      "\n"
     ]
    },
    {
     "name": "stderr",
     "output_type": "stream",
     "text": [
      "\r",
      "[Stage 11:===================================================>  (192 + 4) / 200]\r",
      "\r",
      "                                                                                \r"
     ]
    }
   ],
   "source": [
    "df.sort(F.col(\"count\").desc()).show()"
   ]
  },
  {
   "cell_type": "markdown",
   "id": "5cc2574a",
   "metadata": {},
   "source": [
    "### Question 6: Most common locations pair"
   ]
  },
  {
   "cell_type": "code",
   "execution_count": 7,
   "id": "511292cd",
   "metadata": {},
   "outputs": [
    {
     "name": "stdout",
     "output_type": "stream",
     "text": [
      "--2022-02-25 09:15:19--  https://s3.amazonaws.com/nyc-tlc/misc/taxi+_zone_lookup.csv\n",
      "Resolving s3.amazonaws.com (s3.amazonaws.com)... 52.216.85.29\n",
      "Connecting to s3.amazonaws.com (s3.amazonaws.com)|52.216.85.29|:443... connected.\n",
      "HTTP request sent, awaiting response... 200 OK\n",
      "Length: 12322 (12K) [application/octet-stream]\n",
      "Saving to: ‘taxi+_zone_lookup.csv’\n",
      "\n",
      "taxi+_zone_lookup.c 100%[===================>]  12.03K  --.-KB/s    in 0s      \n",
      "\n",
      "2022-02-25 09:15:20 (46.8 MB/s) - ‘taxi+_zone_lookup.csv’ saved [12322/12322]\n",
      "\n"
     ]
    }
   ],
   "source": [
    "!wget https://s3.amazonaws.com/nyc-tlc/misc/taxi+_zone_lookup.csv"
   ]
  },
  {
   "cell_type": "code",
   "execution_count": 17,
   "id": "c320e2d5",
   "metadata": {},
   "outputs": [],
   "source": [
    "df_zones = spark.read.format(\"csv\") \\\n",
    "                  .load(\"taxi+_zone_lookup.csv\", header='true',)"
   ]
  },
  {
   "cell_type": "code",
   "execution_count": 28,
   "id": "d9d70e0f",
   "metadata": {},
   "outputs": [],
   "source": [
    "df_fhvhv.registerTempTable(\"fhvhv_tripdata\")\n",
    "df_zones.registerTempTable(\"zone_data\")"
   ]
  },
  {
   "cell_type": "code",
   "execution_count": 50,
   "id": "16516545",
   "metadata": {},
   "outputs": [
    {
     "name": "stderr",
     "output_type": "stream",
     "text": [
      "[Stage 23:================================================>         (5 + 1) / 6]\r"
     ]
    },
    {
     "name": "stdout",
     "output_type": "stream",
     "text": [
      "+--------------------+-----+\n",
      "|      pickup-dropoff|count|\n",
      "+--------------------+-----+\n",
      "|East New York / E...|45041|\n",
      "|Borough Park / Bo...|37329|\n",
      "| Canarsie / Canarsie|28026|\n",
      "|Crown Heights Nor...|25976|\n",
      "|Bay Ridge / Bay R...|17934|\n",
      "|Jackson Heights /...|14688|\n",
      "|   Astoria / Astoria|14688|\n",
      "|Central Harlem No...|14481|\n",
      "|Bushwick South / ...|14424|\n",
      "|Flatbush/Ditmas P...|13976|\n",
      "|South Ozone Park ...|13716|\n",
      "|Brownsville / Bro...|12829|\n",
      "|    JFK Airport / NA|12542|\n",
      "|Prospect-Lefferts...|11814|\n",
      "|Forest Hills / Fo...|11548|\n",
      "|Bushwick North / ...|11491|\n",
      "|Bushwick South / ...|11487|\n",
      "|Crown Heights Nor...|11462|\n",
      "|Crown Heights Nor...|11342|\n",
      "|Prospect-Lefferts...|11308|\n",
      "+--------------------+-----+\n",
      "only showing top 20 rows\n",
      "\n"
     ]
    },
    {
     "name": "stderr",
     "output_type": "stream",
     "text": [
      "\r",
      "[Stage 24:==========================================>           (156 + 4) / 200]\r",
      "\r",
      "                                                                                \r"
     ]
    }
   ],
   "source": [
    "df_result = spark.sql(\"\"\"\n",
    "SELECT \n",
    "    CONCAT(pu.Zone, ' / ' , do.Zone) AS `pickup-dropoff`, COUNT(*) AS count\n",
    "FROM \n",
    "    fhvhv_tripdata\n",
    "JOIN \n",
    "    zone_data AS pu\n",
    "ON \n",
    "    PULocationID = pu.LocationID\n",
    "JOIN \n",
    "    zone_data AS do\n",
    "ON\n",
    "    DOLocationID = do.LocationID\n",
    "GROUP BY\n",
    "    `pickup-dropoff`\n",
    "ORDER BY \n",
    "    COUNT(*) DESC;\n",
    "\"\"\").show()"
   ]
  },
  {
   "cell_type": "code",
   "execution_count": 14,
   "id": "3beea3de",
   "metadata": {
    "scrolled": true
   },
   "outputs": [
    {
     "data": {
      "text/plain": [
       "['hvfhs_license_num',\n",
       " 'dispatching_base_num',\n",
       " 'pickup_datetime',\n",
       " 'dropoff_datetime',\n",
       " 'PULocationID',\n",
       " 'DOLocationID',\n",
       " 'SR_Flag']"
      ]
     },
     "execution_count": 14,
     "metadata": {},
     "output_type": "execute_result"
    }
   ],
   "source": [
    "df_fhvhv.columns"
   ]
  },
  {
   "cell_type": "code",
   "execution_count": 42,
   "id": "42545586",
   "metadata": {},
   "outputs": [],
   "source": [
    "df = df_fhvhv \\\n",
    "    .join(df_zones, df_fhvhv.PULocationID == df_zones.LocationID) \\\n",
    "    .drop(\"LocationID\", \"Borough\", \"service_zone\") \\\n",
    "    .withColumnRenamed(\"Zone\", \"pickup_zone\")"
   ]
  },
  {
   "cell_type": "code",
   "execution_count": 43,
   "id": "baf3c572",
   "metadata": {},
   "outputs": [],
   "source": [
    "df = df \\\n",
    "    .join(df_zones, df_fhvhv.DOLocationID == df_zones.LocationID) \\\n",
    "    .drop(\"LocationID\", \"Borough\", \"service_zone\") \\\n",
    "    .withColumnRenamed(\"Zone\", \"dropoff_zone\")"
   ]
  },
  {
   "cell_type": "code",
   "execution_count": 45,
   "id": "c2fb706e",
   "metadata": {},
   "outputs": [],
   "source": [
    "df = df \\\n",
    "    .withColumn(\"pickup-dropoff\", F.concat(F.col(\"pickup_zone\"), F.lit(\" / \"), F.col(\"dropoff_zone\")))"
   ]
  },
  {
   "cell_type": "code",
   "execution_count": 46,
   "id": "830d4819",
   "metadata": {},
   "outputs": [
    {
     "name": "stdout",
     "output_type": "stream",
     "text": [
      "+--------------------+\n",
      "|      pickup-dropoff|\n",
      "+--------------------+\n",
      "|Brownsville / Can...|\n",
      "|Canarsie / Browns...|\n",
      "|Canarsie / Flatlands|\n",
      "|Flatlands / Sunse...|\n",
      "|Hunts Point / Wes...|\n",
      "+--------------------+\n",
      "only showing top 5 rows\n",
      "\n"
     ]
    }
   ],
   "source": [
    "df.select(\"pickup-dropoff\").show(5)"
   ]
  },
  {
   "cell_type": "code",
   "execution_count": 47,
   "id": "0c10f810",
   "metadata": {},
   "outputs": [],
   "source": [
    "df=df.groupBy(\"pickup-dropoff\").count()"
   ]
  },
  {
   "cell_type": "code",
   "execution_count": 48,
   "id": "305907d1",
   "metadata": {},
   "outputs": [
    {
     "name": "stderr",
     "output_type": "stream",
     "text": [
      "[Stage 17:================================================>         (5 + 1) / 6]\r"
     ]
    },
    {
     "name": "stdout",
     "output_type": "stream",
     "text": [
      "+--------------------+-----+\n",
      "|      pickup-dropoff|count|\n",
      "+--------------------+-----+\n",
      "|  Midtown South / NA| 3380|\n",
      "|Hamilton Heights ...| 1452|\n",
      "|Hamilton Heights ...|  960|\n",
      "|Bedford Park / Be...| 5063|\n",
      "|Bushwick South / ...|  372|\n",
      "|    Inwood / Norwood|  664|\n",
      "|East Flatbush/Rem...| 5659|\n",
      "|Alphabet City / C...|  430|\n",
      "|Park Slope / Park...| 9771|\n",
      "|East Harlem South...|  107|\n",
      "|Homecrest / Grave...| 1522|\n",
      "|Eastchester / Hun...|  338|\n",
      "|TriBeCa/Civic Cen...|  566|\n",
      "|Norwood / Kensington|    4|\n",
      "|Greenwich Village...|  675|\n",
      "|Upper West Side N...| 1415|\n",
      "|Kew Gardens Hills...|  157|\n",
      "|Long Island City/...| 1487|\n",
      "|Brownsville / Two...|  160|\n",
      "|Soundview/Castle ...|   64|\n",
      "+--------------------+-----+\n",
      "only showing top 20 rows\n",
      "\n"
     ]
    },
    {
     "name": "stderr",
     "output_type": "stream",
     "text": [
      "\r",
      "                                                                                \r"
     ]
    }
   ],
   "source": [
    "df.show()"
   ]
  },
  {
   "cell_type": "code",
   "execution_count": 49,
   "id": "4c07d3ae",
   "metadata": {},
   "outputs": [
    {
     "name": "stderr",
     "output_type": "stream",
     "text": [
      "[Stage 21:===================================>                  (131 + 6) / 200]\r"
     ]
    },
    {
     "name": "stdout",
     "output_type": "stream",
     "text": [
      "+--------------------+-----+\n",
      "|      pickup-dropoff|count|\n",
      "+--------------------+-----+\n",
      "|East New York / E...|45041|\n",
      "|Borough Park / Bo...|37329|\n",
      "| Canarsie / Canarsie|28026|\n",
      "|Crown Heights Nor...|25976|\n",
      "|Bay Ridge / Bay R...|17934|\n",
      "|Jackson Heights /...|14688|\n",
      "|   Astoria / Astoria|14688|\n",
      "|Central Harlem No...|14481|\n",
      "|Bushwick South / ...|14424|\n",
      "|Flatbush/Ditmas P...|13976|\n",
      "|South Ozone Park ...|13716|\n",
      "|Brownsville / Bro...|12829|\n",
      "|    JFK Airport / NA|12542|\n",
      "|Prospect-Lefferts...|11814|\n",
      "|Forest Hills / Fo...|11548|\n",
      "|Bushwick North / ...|11491|\n",
      "|Bushwick South / ...|11487|\n",
      "|Crown Heights Nor...|11462|\n",
      "|Crown Heights Nor...|11342|\n",
      "|Prospect-Lefferts...|11308|\n",
      "+--------------------+-----+\n",
      "only showing top 20 rows\n",
      "\n"
     ]
    },
    {
     "name": "stderr",
     "output_type": "stream",
     "text": [
      "\r",
      "[Stage 21:==============================================>       (173 + 5) / 200]\r",
      "\r",
      "                                                                                \r"
     ]
    }
   ],
   "source": [
    "df.sort(F.col(\"count\").desc()).show()"
   ]
  },
  {
   "cell_type": "code",
   "execution_count": null,
   "id": "0243335b",
   "metadata": {},
   "outputs": [],
   "source": []
  }
 ],
 "metadata": {
  "kernelspec": {
   "display_name": "Python 3 (ipykernel)",
   "language": "python",
   "name": "python3"
  },
  "language_info": {
   "codemirror_mode": {
    "name": "ipython",
    "version": 3
   },
   "file_extension": ".py",
   "mimetype": "text/x-python",
   "name": "python",
   "nbconvert_exporter": "python",
   "pygments_lexer": "ipython3",
   "version": "3.9.7"
  }
 },
 "nbformat": 4,
 "nbformat_minor": 5
}
